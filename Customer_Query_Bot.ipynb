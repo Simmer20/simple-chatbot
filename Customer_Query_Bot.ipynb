{
  "cells": [
    {
      "cell_type": "markdown",
      "metadata": {
        "id": "view-in-github",
        "colab_type": "text"
      },
      "source": [
        "<a href=\"https://colab.research.google.com/github/Simmer20/simple-chatbot/blob/main/Customer_Query_Bot.ipynb\" target=\"_parent\"><img src=\"https://colab.research.google.com/assets/colab-badge.svg\" alt=\"Open In Colab\"/></a>"
      ]
    },
    {
      "cell_type": "markdown",
      "metadata": {
        "id": "Aqvbt2UjMlmB"
      },
      "source": [
        "#Building Customer Query Bot"
      ]
    },
    {
      "cell_type": "code",
      "execution_count": 1,
      "metadata": {
        "colab": {
          "base_uri": "https://localhost:8080/"
        },
        "id": "Y8gUq85KM3D_",
        "outputId": "20e0ebb3-42ce-426e-bb09-d470e3d3aa38"
      },
      "outputs": [
        {
          "output_type": "stream",
          "name": "stdout",
          "text": [
            "Requirement already satisfied: flask in /usr/local/lib/python3.10/dist-packages (3.1.0)\n",
            "Requirement already satisfied: nltk in /usr/local/lib/python3.10/dist-packages (3.9.1)\n",
            "Requirement already satisfied: Werkzeug>=3.1 in /usr/local/lib/python3.10/dist-packages (from flask) (3.1.3)\n",
            "Requirement already satisfied: Jinja2>=3.1.2 in /usr/local/lib/python3.10/dist-packages (from flask) (3.1.5)\n",
            "Requirement already satisfied: itsdangerous>=2.2 in /usr/local/lib/python3.10/dist-packages (from flask) (2.2.0)\n",
            "Requirement already satisfied: click>=8.1.3 in /usr/local/lib/python3.10/dist-packages (from flask) (8.1.8)\n",
            "Requirement already satisfied: blinker>=1.9 in /usr/local/lib/python3.10/dist-packages (from flask) (1.9.0)\n",
            "Requirement already satisfied: joblib in /usr/local/lib/python3.10/dist-packages (from nltk) (1.4.2)\n",
            "Requirement already satisfied: regex>=2021.8.3 in /usr/local/lib/python3.10/dist-packages (from nltk) (2024.11.6)\n",
            "Requirement already satisfied: tqdm in /usr/local/lib/python3.10/dist-packages (from nltk) (4.67.1)\n",
            "Requirement already satisfied: MarkupSafe>=2.0 in /usr/local/lib/python3.10/dist-packages (from Jinja2>=3.1.2->flask) (3.0.2)\n",
            "Collecting pyngrok\n",
            "  Downloading pyngrok-7.2.3-py3-none-any.whl.metadata (8.7 kB)\n",
            "Requirement already satisfied: PyYAML>=5.1 in /usr/local/lib/python3.10/dist-packages (from pyngrok) (6.0.2)\n",
            "Downloading pyngrok-7.2.3-py3-none-any.whl (23 kB)\n",
            "Installing collected packages: pyngrok\n",
            "Successfully installed pyngrok-7.2.3\n"
          ]
        }
      ],
      "source": [
        "#required libraries\n",
        "!pip install flask nltk\n",
        "!pip install pyngrok"
      ]
    },
    {
      "cell_type": "code",
      "execution_count": 2,
      "metadata": {
        "id": "j3a8l5DMNO9N"
      },
      "outputs": [],
      "source": [
        "#chatbot_logic.py\n",
        "import nltk\n",
        "from nltk.chat.util import Chat, reflections\n",
        "\n",
        "#Define chatbot patterns and responses\n",
        "patterns = [\n",
        "    (r'hi|hello|Sasa', ['Hello!', 'Hi there!']),\n",
        "    (r'how do i change my profile picture', ['You can change by going to our website and clicking on the profile picture part.']),\n",
        "    (r'how do i reset my password', ['You can reset your password by going to our website and clicking on the forgot password link.']),\n",
        "    (r'Goodbye', ['Goodbye! Have a great day.']),\n",
        "\n",
        "]\n",
        "#creating chatbot instance\n",
        "chatbot = Chat(patterns, reflections)\n",
        "\n",
        "#function to get chatbot response\n",
        "def get_chatbot_response(user_input):\n",
        "    return chatbot.respond(user_input)\n",
        "    return response if response else \"I'm sorry, I didn't understand that. Please  Rephrase?\""
      ]
    },
    {
      "cell_type": "code",
      "execution_count": 3,
      "metadata": {
        "colab": {
          "base_uri": "https://localhost:8080/"
        },
        "id": "aNNMba5RRvTp",
        "outputId": "ad90e4a3-4140-40d9-ae67-eb322d9c0937"
      },
      "outputs": [
        {
          "output_type": "stream",
          "name": "stdout",
          "text": [
            "Hello!\n"
          ]
        }
      ],
      "source": [
        "#testing chatbot logic\n",
        "print(get_chatbot_response('Hello'))"
      ]
    },
    {
      "cell_type": "code",
      "execution_count": 4,
      "metadata": {
        "id": "qNrgIAfQZl6i"
      },
      "outputs": [],
      "source": [
        "# Flask and pyngrok Setup\n",
        "from flask import Flask, request, render_template_string\n",
        "from pyngrok import ngrok\n",
        "\n",
        "# Start Flask App\n",
        "app = Flask(__name__)\n",
        "\n",
        "# HTML Template for Chatbot\n",
        "HTML_TEMPLATE = \"\"\"\n",
        "<!DOCTYPE html>\n",
        "<html>\n",
        "<head>\n",
        "    <title>Chatbot</title>\n",
        "    <style>\n",
        "        body { font-family: Arial, sans-serif; margin: 0; padding: 0; display: flex; justify-content: center; align-items: center; height: 100vh; background-color: #f0f0f0; }\n",
        "        .chatbox { width: 400px; border: 1px solid #ccc; background: white; padding: 10px; border-radius: 5px; }\n",
        "        .messages { height: 300px; overflow-y: scroll; margin-bottom: 10px; border: 1px solid #ddd; padding: 5px; }\n",
        "        .input-box { display: flex; }\n",
        "        .input-box input { flex: 1; padding: 5px; border: 1px solid #ddd; }\n",
        "        .input-box button { padding: 5px; border: none; background: #007BFF; color: white; cursor: pointer; }\n",
        "    </style>\n",
        "</head>\n",
        "<body>\n",
        "    <div class=\"chatbox\">\n",
        "        <h3>Customer Support Chatbot</h3>\n",
        "        <div class=\"messages\" id=\"messages\"></div>\n",
        "        <div class=\"input-box\">\n",
        "            <input type=\"text\" id=\"userInput\" placeholder=\"Type your message...\" />\n",
        "            <button onclick=\"sendMessage()\">Send</button>\n",
        "        </div>\n",
        "    </div>\n",
        "    <script>\n",
        "        function sendMessage() {\n",
        "            const userInput = document.getElementById('userInput').value;\n",
        "            const messages = document.getElementById('messages');\n",
        "            messages.innerHTML += `<div><b>You:</b> ${userInput}</div>`;\n",
        "\n",
        "            fetch('/get_response', {\n",
        "                method: 'POST',\n",
        "                headers: { 'Content-Type': 'application/json' },\n",
        "                body: JSON.stringify({ user_input: userInput })\n",
        "            })\n",
        "            .then(response => response.json())\n",
        "            .then(data => {\n",
        "                messages.innerHTML += `<div><b>Bot:</b> ${data.response}</div>`;\n",
        "                document.getElementById('userInput').value = '';\n",
        "                messages.scrollTop = messages.scrollHeight;\n",
        "            });\n",
        "        }\n",
        "    </script>\n",
        "</body>\n",
        "</html>\n",
        "\"\"\"\n",
        "\n",
        "@app.route('/')\n",
        "def index():\n",
        "    return render_template_string(HTML_TEMPLATE)\n",
        "\n",
        "@app.route('/get_response', methods=['POST'])\n",
        "def get_response():\n",
        "    user_input = request.json.get('user_input')\n",
        "    print(\"User Input Received:\", user_input)\n",
        "    response = get_chatbot_response(user_input)\n",
        "    print(\"Chatbot Response:\", response)\n",
        "    return {'response': response}\n"
      ]
    },
    {
      "cell_type": "code",
      "execution_count": 5,
      "metadata": {
        "colab": {
          "base_uri": "https://localhost:8080/"
        },
        "id": "nfToekweeWbB",
        "outputId": "679a2d4d-0a1a-4253-f849-13ff435eb743"
      },
      "outputs": [
        {
          "output_type": "stream",
          "name": "stdout",
          "text": [
            "--2025-01-12 07:02:34--  https://bin.equinox.io/c/bNyj1mQVY4c/ngrok-stable-linux-amd64.zip\n",
            "Resolving bin.equinox.io (bin.equinox.io)... 99.83.220.108, 13.248.244.96, 35.71.179.82, ...\n",
            "Connecting to bin.equinox.io (bin.equinox.io)|99.83.220.108|:443... connected.\n",
            "HTTP request sent, awaiting response... 200 OK\n",
            "Length: 14931166 (14M) [application/octet-stream]\n",
            "Saving to: ‘ngrok-stable-linux-amd64.zip’\n",
            "\n",
            "ngrok-stable-linux- 100%[===================>]  14.24M  15.3MB/s    in 0.9s    \n",
            "\n",
            "2025-01-12 07:02:35 (15.3 MB/s) - ‘ngrok-stable-linux-amd64.zip’ saved [14931166/14931166]\n",
            "\n",
            "Archive:  ngrok-stable-linux-amd64.zip\n",
            "  inflating: ngrok                   \n"
          ]
        }
      ],
      "source": [
        "!wget https://bin.equinox.io/c/bNyj1mQVY4c/ngrok-stable-linux-amd64.zip\n",
        "!unzip ngrok-stable-linux-amd64.zip"
      ]
    },
    {
      "cell_type": "code",
      "execution_count": 6,
      "metadata": {
        "colab": {
          "base_uri": "https://localhost:8080/"
        },
        "id": "pi17GJm7cOI0",
        "outputId": "5763a720-c11c-4ad7-e012-4e22878fd926"
      },
      "outputs": [
        {
          "output_type": "stream",
          "name": "stdout",
          "text": [
            "Authtoken saved to configuration file: /root/.config/ngrok/ngrok.yml\n"
          ]
        }
      ],
      "source": [
        "#authenticating ngrok\n",
        "!./ngrok config add-authtoken 2rJ6jQknQPQE1u8c3pGGHdtQw2l_6EEPktNGc4kPNZVpYuxxH"
      ]
    },
    {
      "cell_type": "code",
      "execution_count": 7,
      "metadata": {
        "colab": {
          "base_uri": "https://localhost:8080/"
        },
        "id": "pnLyb956bbdB",
        "outputId": "6ffab384-6ae8-467b-cbb6-235306bfcdc0"
      },
      "outputs": [
        {
          "output_type": "stream",
          "name": "stdout",
          "text": [
            "Chatbot is live at: https://09e2-34-32-211-209.ngrok-free.app\n",
            " * Serving Flask app '__main__'\n",
            " * Debug mode: off\n"
          ]
        },
        {
          "output_type": "stream",
          "name": "stderr",
          "text": [
            "INFO:werkzeug:\u001b[31m\u001b[1mWARNING: This is a development server. Do not use it in a production deployment. Use a production WSGI server instead.\u001b[0m\n",
            " * Running on all addresses (0.0.0.0)\n",
            " * Running on http://127.0.0.1:5000\n",
            " * Running on http://172.28.0.12:5000\n",
            "INFO:werkzeug:\u001b[33mPress CTRL+C to quit\u001b[0m\n",
            "INFO:werkzeug:127.0.0.1 - - [12/Jan/2025 07:03:47] \"GET / HTTP/1.1\" 200 -\n",
            "INFO:werkzeug:127.0.0.1 - - [12/Jan/2025 07:03:47] \"\u001b[33mGET /favicon.ico HTTP/1.1\u001b[0m\" 404 -\n"
          ]
        }
      ],
      "source": [
        "from pyngrok import ngrok\n",
        "\n",
        "# Start ngrok tunnel\n",
        "public_url = ngrok.connect(5000).public_url\n",
        "print(\"Chatbot is live at:\", public_url)\n",
        "\n",
        "# Start Flask\n",
        "app.run(host='0.0.0.0', port=5000)"
      ]
    },
    {
      "cell_type": "markdown",
      "source": [
        "#GitHub configuration"
      ],
      "metadata": {
        "id": "N1n8bQvwWEaW"
      }
    },
    {
      "cell_type": "code",
      "source": [
        "#Git Config\n",
        "!git config --global user.name \"Simmer20\"\n",
        "!git config --global user.email \"mwanikimercy.simmer@gmail.com\""
      ],
      "metadata": {
        "id": "A3nLSRssU-b0"
      },
      "execution_count": 8,
      "outputs": []
    },
    {
      "cell_type": "code",
      "source": [
        "#cloning Repo\n",
        "!git clone https://github.com/Simmer20/simple-chatbot.git"
      ],
      "metadata": {
        "colab": {
          "base_uri": "https://localhost:8080/"
        },
        "id": "tfXXiZDAVXn-",
        "outputId": "92dae709-0451-49ed-dea0-cca36555712d"
      },
      "execution_count": 9,
      "outputs": [
        {
          "output_type": "stream",
          "name": "stdout",
          "text": [
            "Cloning into 'simple-chatbot'...\n",
            "fatal: could not read Username for 'https://github.com': No such device or address\n"
          ]
        }
      ]
    },
    {
      "cell_type": "code",
      "source": [],
      "metadata": {
        "id": "6DBOQx6dWJMU"
      },
      "execution_count": null,
      "outputs": []
    }
  ],
  "metadata": {
    "colab": {
      "provenance": [],
      "authorship_tag": "ABX9TyN50YyNkeEVPnRWvYHXddzo",
      "include_colab_link": true
    },
    "kernelspec": {
      "display_name": "Python 3",
      "name": "python3"
    },
    "language_info": {
      "name": "python"
    }
  },
  "nbformat": 4,
  "nbformat_minor": 0
}